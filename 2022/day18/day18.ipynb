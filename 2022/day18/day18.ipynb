{
 "cells": [
  {
   "cell_type": "code",
   "execution_count": 103,
   "metadata": {},
   "outputs": [],
   "source": [
    "with open('day18input.txt', 'r') as f:\n",
    "    lines = [ l.strip().split(',') for l in f ]\n",
    "lines = [ (int(x), int(y), int(z)) for x, y, z in lines ] \n",
    "lines.sort()\n",
    "lines_set = set(lines)"
   ]
  },
  {
   "cell_type": "code",
   "execution_count": 104,
   "metadata": {},
   "outputs": [],
   "source": [
    "x = [ x for x, _, _ in lines ]\n",
    "min_x = min(x)\n",
    "max_x = max(x)\n",
    "y = [ y for _, y, _ in lines ]\n",
    "min_y = min(y)\n",
    "max_y = max(y)\n",
    "z = [ z for _, _, z in lines ]\n",
    "min_z = min(z)\n",
    "max_z = max(z)"
   ]
  },
  {
   "cell_type": "code",
   "execution_count": 95,
   "metadata": {},
   "outputs": [],
   "source": [
    "def find_adjacents(triple) -> int:\n",
    "    x, y, z = triple\n",
    "    output = 0\n",
    "    if (x + 1, y, z) not in lines_set:\n",
    "        output += 1\n",
    "    if (x - 1, y, z) not in lines_set:\n",
    "        output += 1\n",
    "    if (x, y + 1, z) not in lines_set:\n",
    "        output += 1\n",
    "    if (x, y - 1, z) not in lines_set:\n",
    "        output += 1\n",
    "    if (x, y, z + 1) not in lines_set:\n",
    "        output += 1\n",
    "    if (x, y, z - 1) not in lines_set:\n",
    "        output += 1\n",
    "    return output"
   ]
  },
  {
   "cell_type": "code",
   "execution_count": 96,
   "metadata": {},
   "outputs": [],
   "source": [
    "def explore(triple):\n",
    "    x, y, z = triple\n",
    "    output = []\n",
    "    sides = 0\n",
    "    if x + 1 > max_x + 1:\n",
    "        pass\n",
    "    elif (x + 1, y, z) not in lines_set:\n",
    "        output.append((x + 1, y, z))\n",
    "    else:\n",
    "        sides += 1\n",
    "    if x - 1 < min_x - 1:\n",
    "        pass\n",
    "    elif (x - 1, y, z) not in lines_set:\n",
    "        output.append((x - 1, y, z))\n",
    "    else:\n",
    "        sides += 1\n",
    "    if y + 1 > max_y + 1:\n",
    "        pass\n",
    "    elif (x, y + 1, z) not in lines_set:\n",
    "        output.append((x, y + 1, z))\n",
    "    else:\n",
    "        sides += 1\n",
    "    if y - 1 < min_y - 1:\n",
    "        pass\n",
    "    elif (x, y - 1, z) not in lines_set:\n",
    "        output.append((x, y - 1, z))\n",
    "    else:\n",
    "        sides += 1\n",
    "    if z + 1 > max_z + 1:\n",
    "        pass\n",
    "    elif (x, y, z + 1) not in lines_set:\n",
    "        output.append((x, y, z + 1))\n",
    "    else:\n",
    "        sides += 1\n",
    "    if z - 1 < min_z - 1:\n",
    "        pass\n",
    "    elif (x, y, z - 1) not in lines_set:\n",
    "        output.append((x, y, z - 1))\n",
    "    else:\n",
    "        sides += 1\n",
    "    return output, sides"
   ]
  },
  {
   "cell_type": "code",
   "execution_count": 97,
   "metadata": {},
   "outputs": [
    {
     "name": "stdout",
     "output_type": "stream",
     "text": [
      "36\n"
     ]
    }
   ],
   "source": [
    "# Part 1\n",
    "output = 0\n",
    "for line in lines:\n",
    "    output += find_adjacents(line)\n",
    "print(output)"
   ]
  },
  {
   "cell_type": "code",
   "execution_count": 105,
   "metadata": {},
   "outputs": [
    {
     "name": "stdout",
     "output_type": "stream",
     "text": [
      "2486\n"
     ]
    }
   ],
   "source": [
    "# Part 2\n",
    "stack = [(0, 0, 0)]\n",
    "visited = set()\n",
    "sides = 0\n",
    "while len(stack) > 0:\n",
    "    triple = stack.pop()\n",
    "    visited.add(triple)\n",
    "    nodes, seen = explore(triple)\n",
    "    for node in nodes:\n",
    "        if node not in visited and node not in stack:\n",
    "            stack.append(node)\n",
    "    sides += seen\n",
    "print(sides)"
   ]
  }
 ],
 "metadata": {
  "kernelspec": {
   "display_name": "Python 3",
   "language": "python",
   "name": "python3"
  },
  "language_info": {
   "codemirror_mode": {
    "name": "ipython",
    "version": 3
   },
   "file_extension": ".py",
   "mimetype": "text/x-python",
   "name": "python",
   "nbconvert_exporter": "python",
   "pygments_lexer": "ipython3",
   "version": "3.10.8 (main, Oct 21 2022, 22:22:30) [Clang 14.0.0 (clang-1400.0.29.202)]"
  },
  "orig_nbformat": 4,
  "vscode": {
   "interpreter": {
    "hash": "b0fa6594d8f4cbf19f97940f81e996739fb7646882a419484c72d19e05852a7e"
   }
  }
 },
 "nbformat": 4,
 "nbformat_minor": 2
}
